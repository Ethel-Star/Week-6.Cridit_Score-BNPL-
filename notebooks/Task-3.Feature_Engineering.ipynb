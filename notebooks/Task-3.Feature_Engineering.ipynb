{
 "cells": [
  {
   "cell_type": "code",
   "execution_count": null,
   "metadata": {},
   "outputs": [],
   "source": [
    "import sys\n",
    "\n",
    "# Add the scripts and src directories to the Python path\n",
    "scripts_dir = r'E:\\DS+ML\\AIM3\\Practice\\Week-6\\scripts' #r'E:\\DS+ML\\AIM3\\Week6\\scripts'\n",
    "src_dir = r'E:\\DS+ML\\AIM3\\Practice\\Week-6\\src'#r'E:\\DS+ML\\AIM3\\Week6\\src'\n",
    "# Update the file paths\n",
    "input_file = r'E:\\DS+ML\\AIM3\\Week6\\data\\data_cleaned.csv'  # Path to your cleaned dataset\n",
    "ouput_file = r'E:\\DS+ML\\AIM3\\Week6\\data\\data_feature_engineered.csv'  # Path to save the feature-engineered dataset\n",
    "# Perform feature engineering\n",
    "# Add directories to Python path if they are not already included\n",
    "if scripts_dir not in sys.path:\n",
    "    sys.path.append(scripts_dir)\n",
    "if src_dir not in sys.path:\n",
    "    sys.path.append(src_dir)"
   ]
  },
  {
   "cell_type": "code",
   "execution_count": null,
   "metadata": {},
   "outputs": [],
   "source": [
    "from Feature_Engineering import feature_engineering"
   ]
  },
  {
   "cell_type": "markdown",
   "metadata": {},
   "source": [
    "feature_engineering(input_file, output_file)"
   ]
  }
 ],
 "metadata": {
  "language_info": {
   "name": "python"
  }
 },
 "nbformat": 4,
 "nbformat_minor": 2
}
